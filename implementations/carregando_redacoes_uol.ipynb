{
 "cells": [
  {
   "cell_type": "markdown",
   "metadata": {},
   "source": [
    "# Avaliando redações disponibilizadas pela UOL\n",
    "\n",
    "Scripts e códigos utilizados para avaliar as redações disponibilizadas pela empresa UOL.\n",
    "As instruções para instalar e utilizar as redações estão disponíveis [aqui](https://github.com/gpassero/uol-redacoes-xml)"
   ]
  },
  {
   "cell_type": "code",
   "execution_count": 1,
   "metadata": {},
   "outputs": [],
   "source": [
    "# imports\n",
    "import numpy as np\n",
    "import uol_redacoes_xml as uol"
   ]
  },
  {
   "cell_type": "markdown",
   "metadata": {},
   "source": [
    "## Carregando redações"
   ]
  },
  {
   "cell_type": "code",
   "execution_count": 14,
   "metadata": {},
   "outputs": [
    {
     "name": "stdout",
     "output_type": "stream",
     "text": [
      "Número de redações:  2164 \n",
      "\n",
      "Objeto que contém as redações: <class 'uol_redacoes_xml.reader.essays.Essay'> \n",
      "\n",
      "Atributo do objeto:\n",
      "['title', 'text', 'criteria_scores', 'final_score', 'prompt', 'url', 'fixed_text', 'errors', 'comments', '_extract_features', 'get_features']\n",
      "[1243, 225, 4, 310.75, 139, 161.8705035971223, 5.524444444444445]\n"
     ]
    }
   ],
   "source": [
    "essays = uol.load()\n",
    "print(\"Número de redações: \",len(essays),\"\\n\")\n",
    "print(\"Objeto que contém as redações:\", type(essays[0]),\"\\n\")\n",
    "\n",
    "print(\"Atributo do objeto:\")\n",
    "\n",
    "print([param for param in essays[0].__dir__() if not param.startswith(\"__\")])\n",
    "\n",
    "print(\"Features grais:\",essays[0].get_features())\n"
   ]
  },
  {
   "cell_type": "markdown",
   "metadata": {},
   "source": [
    "As features indicadas em \"Features gerais\", segundo o que consta no repositório [uol](https://github.com/gpassero/uol-redacoes-xml/blob/master/README.md) são as seguintes:\n",
    "\n",
    "- Número de caracteres\n",
    "- Número de palavras\n",
    "- Número de parágrafos\n",
    "- Tamanho médio dos parágrafos\n",
    "- Número de palavrás únicas (vocabulário)\n",
    "- Repetição de palavras (total / vocabulário)\n",
    "- Tamanho médio das palavras\n"
   ]
  },
  {
   "cell_type": "code",
   "execution_count": 19,
   "metadata": {},
   "outputs": [
    {
     "name": "stdout",
     "output_type": "stream",
     "text": [
      "\t\t Exemplo de redação: \n",
      "\n",
      "\n",
      "Entre direitos individuais e escândalos políticos \n",
      "\n",
      "\n",
      "Os direitos fundamentais contidos na Constituição Federal não são absolutos, salvo algumas exceções conflitantes entre especialistas, o que abre margem para discussões em casos em que há convergência de direitos. Esse é o caso da decisão judiciária aplicada aos jornais para a remoção das publicações que fizeram sobre o caso de Marcela Temer e do hacker, cuja repercussão se estabeleceu no impasse sobre quais direitos teriam prioridade: liberdade de expressão ou inviolabilidade da intimidade.\n",
      "Em uma primeira análise a inviolabilidade da intimidade teria prioridade sobre a liberdade de expressão, pois as formas midiáticas, a atividade artística, a música, etc. não necessitam de autorização para exercerem suas atividades, desde que não interfiram nos direitos de terceiros. Entretanto, quem é contra a decisão judiciária afirma que a ordem se trata de uma forma de censura, pois as imagens divulgadas do caso foram retiradas do processo judiciário público – isto é, qualquer pessoa tem o direito de acessar – e abordam tema de interesse social.\n",
      "Nessa disputa de censura ou violação da intimidade, observa-se que há interesse político, pois as informações atingem diretamente o atual presidente do Brasil, Michel Temer, o que prejudicaria sua reputação. Então chega-se há outra questão pertinente à população: até que ponto são verídicas as alegações do hacker, sendo ele um criminoso ou não.  Afinal, os fragmentos de texto propagados na internet são dispersos e pouco se pode concluir, mas se há crime por de traz das ações do Presidente Temer, é necessário que haja investigação policial.\n",
      "Por conseguinte, conclui-se que houve censura por parte da decisão para minimizar futuros constrangimentos a Temer. Mas, sendo este uma figura pública, o caso diz respeito aos brasileiros, que não podem ser vendados diante dos diversos casos de corrupção envolvendo políticos. Inegavelmente, o ato de hackear é crime, e o executor desse caso está pagando sua pena, mas deveria ser aberto um novo processo – em segredo de justiça, para que não haja a inviolabilidade da imagem da pessoa – para descobrirem se existe ou não marqueteiro(s)  à trabalho para o atual Presidente da República, pois a justiça deve ter prioridade sobre qualquer direito individual.\n"
     ]
    }
   ],
   "source": [
    "print(\"\\t\\t Exemplo de redação: \\n\\n\")\n",
    "index = 1\n",
    "print(essays[index].title,\"\\n\\n\")\n",
    "print(essays[index].text)"
   ]
  },
  {
   "cell_type": "markdown",
   "metadata": {},
   "source": [
    "## Ferramenta CoGroo\n",
    "Utilizando a biblioteca CoGroo para python. CoGroo trata-se de um corretor morfológico para a língua portuguesa cuja utilização foi aconcelhada pelo professor Rafael para o projeto da disciplina de mineração de texto. \n",
    "As instruções sobre como utilizar a ferramente se encontram [aqui](https://github.com/gpassero/cogroo4py).\n",
    "Antes de rodar o módulo, será necesário instalar a biblioteca py4j, já que a biblioteca disponibilisada usa uma interface java para comunicar-se com pyhton.\n",
    "A mesma pode ser instalada via pip, utilizando o comando\n",
    "\n",
    "```\n",
    "    pip install py4j\n",
    "```"
   ]
  },
  {
   "cell_type": "markdown",
   "metadata": {},
   "source": [
    "### Separando parágrafos"
   ]
  },
  {
   "cell_type": "code",
   "execution_count": 37,
   "metadata": {},
   "outputs": [
    {
     "name": "stdout",
     "output_type": "stream",
     "text": [
      "Objeto retornado ao ser feita as análises <class 'cogroo_interface.Document'> \n",
      "\n",
      "Parâmetros do objeto\n",
      "['text', 'sentences', 'paragraphs']\n",
      "Paragrafo 0:\n",
      " [Os direitos fundamentais contidos na Constituição Federal não são absolutos, salvo algumas exceções conflitantes entre especialistas, o que abre margem para discussões em casos em que há convergência de direitos., Esse é o caso da decisão judiciária aplicada aos jornais para a remoção das publicações que fizeram sobre o caso de Marcela Temer e do hacker, cuja repercussão se estabeleceu no impasse sobre quais direitos teriam prioridade:, liberdade de expressão ou inviolabilidade da intimidade.] \n",
      "\n",
      "Paragrafo 1:\n",
      " [Em uma primeira análise a inviolabilidade da intimidade teria prioridade sobre a liberdade de expressão, pois as formas midiáticas, a atividade artística, a música, etc. não necessitam de autorização para exercerem suas atividades, desde que não interfiram nos direitos de terceiros., Entretanto, quem é contra a decisão judiciária afirma que a ordem se trata de uma forma de censura, pois as imagens divulgadas do caso foram retiradas do processo judiciário público – isto é, qualquer pessoa tem o direito de acessar – e abordam tema de interesse social.] \n",
      "\n",
      "Paragrafo 2:\n",
      " [Nessa disputa de censura ou violação da intimidade, observa-se que há interesse político, pois as informações atingem diretamente o atual presidente do Brasil, Michel Temer, o que prejudicaria sua reputação., Então chega-se há outra questão pertinente à população:, até que ponto são verídicas as alegações do hacker, sendo ele um criminoso ou não., Afinal, os fragmentos de texto propagados na internet são dispersos e pouco se pode concluir, mas se há crime por de traz das ações do Presidente Temer, é necessário que haja investigação policial.] \n",
      "\n",
      "Paragrafo 3:\n",
      " [Por conseguinte, conclui-se que houve censura por parte da decisão para minimizar futuros constrangimentos a Temer., Mas, sendo este uma figura pública, o caso diz respeito aos brasileiros, que não podem ser vendados diante dos diversos casos de corrupção envolvendo políticos., Inegavelmente, o ato de hackear é crime, e o executor desse caso está pagando sua pena, mas deveria ser aberto um novo processo – em segredo de justiça, para que não haja a inviolabilidade da imagem da pessoa – para descobrirem se existe ou não marqueteiro(s)  à trabalho para o atual Presidente da República, pois a justiça deve ter prioridade sobre qualquer direito individual.] \n",
      "\n"
     ]
    }
   ],
   "source": [
    "from cogroo_interface import Cogroo\n",
    "\n",
    "cogroo = Cogroo.Instance()\n",
    "\n",
    "texto = essays[index].text\n",
    "\n",
    "# Analizando texto\n",
    "doc = cogroo.analyze(texto)\n",
    "print(\"Objeto retornado ao ser feita as análises\",type(doc),\"\\n\")\n",
    "\n",
    "print(\"Parâmetros do objeto\")\n",
    "print([param for param in doc.__dir__() if not param.startswith(\"__\")])\n",
    "# Contando parágrafos\n",
    "for i, p in enumerate(doc.paragraphs):\n",
    "    print(\"Paragrafo \"+str(i)+\":\\n\",p,\"\\n\")\n"
   ]
  },
  {
   "cell_type": "markdown",
   "metadata": {},
   "source": [
    "### Separando por sentenças"
   ]
  },
  {
   "cell_type": "code",
   "execution_count": 41,
   "metadata": {},
   "outputs": [
    {
     "name": "stdout",
     "output_type": "stream",
     "text": [
      "Sentença 0:\n",
      " Os direitos fundamentais contidos na Constituição Federal não são absolutos, salvo algumas exceções conflitantes entre especialistas, o que abre margem para discussões em casos em que há convergência de direitos. \n",
      "\n",
      "Sentença 1:\n",
      " Esse é o caso da decisão judiciária aplicada aos jornais para a remoção das publicações que fizeram sobre o caso de Marcela Temer e do hacker, cuja repercussão se estabeleceu no impasse sobre quais direitos teriam prioridade: \n",
      "\n",
      "Sentença 2:\n",
      " liberdade de expressão ou inviolabilidade da intimidade. \n",
      "\n",
      "Sentença 3:\n",
      " Em uma primeira análise a inviolabilidade da intimidade teria prioridade sobre a liberdade de expressão, pois as formas midiáticas, a atividade artística, a música, etc. não necessitam de autorização para exercerem suas atividades, desde que não interfiram nos direitos de terceiros. \n",
      "\n",
      "Sentença 4:\n",
      " Entretanto, quem é contra a decisão judiciária afirma que a ordem se trata de uma forma de censura, pois as imagens divulgadas do caso foram retiradas do processo judiciário público – isto é, qualquer pessoa tem o direito de acessar – e abordam tema de interesse social. \n",
      "\n",
      "Sentença 5:\n",
      " Nessa disputa de censura ou violação da intimidade, observa-se que há interesse político, pois as informações atingem diretamente o atual presidente do Brasil, Michel Temer, o que prejudicaria sua reputação. \n",
      "\n",
      "Sentença 6:\n",
      " Então chega-se há outra questão pertinente à população: \n",
      "\n",
      "Sentença 7:\n",
      " até que ponto são verídicas as alegações do hacker, sendo ele um criminoso ou não. \n",
      "\n",
      "Sentença 8:\n",
      " Afinal, os fragmentos de texto propagados na internet são dispersos e pouco se pode concluir, mas se há crime por de traz das ações do Presidente Temer, é necessário que haja investigação policial. \n",
      "\n",
      "Sentença 9:\n",
      " Por conseguinte, conclui-se que houve censura por parte da decisão para minimizar futuros constrangimentos a Temer. \n",
      "\n",
      "Sentença 10:\n",
      " Mas, sendo este uma figura pública, o caso diz respeito aos brasileiros, que não podem ser vendados diante dos diversos casos de corrupção envolvendo políticos. \n",
      "\n",
      "Sentença 11:\n",
      " Inegavelmente, o ato de hackear é crime, e o executor desse caso está pagando sua pena, mas deveria ser aberto um novo processo – em segredo de justiça, para que não haja a inviolabilidade da imagem da pessoa – para descobrirem se existe ou não marqueteiro(s)  à trabalho para o atual Presidente da República, pois a justiça deve ter prioridade sobre qualquer direito individual. \n",
      "\n"
     ]
    }
   ],
   "source": [
    "sentences = doc.sentences\n",
    "for i , s in enumerate(sentences):\n",
    "    print(\"Sentença \"+str(i)+\":\\n\",s,\"\\n\")"
   ]
  },
  {
   "cell_type": "markdown",
   "metadata": {},
   "source": [
    "### Análise gramatical"
   ]
  },
  {
   "cell_type": "code",
   "execution_count": 68,
   "metadata": {},
   "outputs": [
    {
     "name": "stdout",
     "output_type": "stream",
     "text": [
      "Número de erros detectados:  3\n"
     ]
    }
   ],
   "source": [
    "\n",
    "doc = cogroo.grammar_check(essays[index].text)\n",
    "print(\"Número de erros detectados: \",len(doc.mistakes))"
   ]
  },
  {
   "cell_type": "code",
   "execution_count": 74,
   "metadata": {},
   "outputs": [
    {
     "name": "stdout",
     "output_type": "stream",
     "text": [
      "Objeto retornado: <class 'cogroo_interface.Mistake'> \n",
      "\n",
      "Parâmetros do objeto retornado:\n",
      "['rule_id', 'short_msg', 'long_msg', 'full_msg', 'suggestions', 'start', 'end', 'context', 'rule_priority']\n"
     ]
    }
   ],
   "source": [
    "mistake = doc.mistakes[2]\n",
    "print(\"Objeto retornado:\",type(mistake),\"\\n\")\n",
    "print(\"Parâmetros do objeto retornado:\")\n",
    "\n",
    "print([param for param in mistake.__dir__() if not param.startswith(\"__\")])"
   ]
  },
  {
   "cell_type": "code",
   "execution_count": 78,
   "metadata": {},
   "outputs": [
    {
     "name": "stdout",
     "output_type": "stream",
     "text": [
      "xml:1 \n",
      "\n",
      "Não ocorre crase antes de palavras masculinas. \n",
      "\n",
      "O sinal indicativo de crase indica que temos \"a\" + \"a\" expressos em um só \"à\". Somente ocorre crase quando há encontro de preposição \"a\" com artigo ou pronome demonstrativo \"a\"/\"as\". Portanto, não ocorre crase antes de palavras masculinas. \n",
      "\n",
      "O sinal indicativo de crase indica que temos \"a\" + \"a\" expressos em um só \"à\". Somente ocorre crase quando há encontro de preposição \"a\" com artigo ou pronome demonstrativo \"a\"/\"as\". Portanto, não ocorre crase antes de palavras masculinas.\n",
      "Exemplos:\n",
      "  Incorreto: \tRefiro-me à trabalho remunerado.\n",
      "  Correto:   \tRefiro-me ao trabalho remunerado. Refiro-me a trabalho remunerado.\n",
      " \n",
      "\n",
      "Prioridade da regra:  999 \n",
      "\n",
      "Começo do erro:  2135\n",
      "Fim do erro:  2136\n"
     ]
    }
   ],
   "source": [
    "print(mistake.rule_id,\"\\n\")\n",
    "print(mistake.short_msg,\"\\n\")\n",
    "print(mistake.long_msg,\"\\n\")\n",
    "print(mistake.full_msg,\"\\n\")\n",
    "print(\"Prioridade da regra: \",mistake.rule_priority,\"\\n\")\n",
    "print(\"Começo do erro: \",mistake.start)\n",
    "print(\"Fim do erro: \",mistake.end)"
   ]
  },
  {
   "cell_type": "code",
   "execution_count": 76,
   "metadata": {},
   "outputs": [
    {
     "name": "stdout",
     "output_type": "stream",
     "text": [
      "à\n"
     ]
    }
   ],
   "source": [
    "## Verificando começo e fim do erro no texto\n",
    "erro = essays[index].text[mistake.start:mistake.end]\n",
    "print(erro)"
   ]
  }
 ],
 "metadata": {
  "kernelspec": {
   "display_name": "Python 3",
   "language": "python",
   "name": "python3"
  },
  "language_info": {
   "codemirror_mode": {
    "name": "ipython",
    "version": 3
   },
   "file_extension": ".py",
   "mimetype": "text/x-python",
   "name": "python",
   "nbconvert_exporter": "python",
   "pygments_lexer": "ipython3",
   "version": "3.6.9"
  }
 },
 "nbformat": 4,
 "nbformat_minor": 2
}
