{
 "cells": [
  {
   "cell_type": "markdown",
   "metadata": {},
   "source": [
    "# Avaliando redações disponibilizadas pela UOL\n",
    "\n",
    "Scripts e códigos utilizados para avaliar as redações disponibilizadas pela empresa UOL.\n",
    "As instruções para instalar e utilizar as redações estão disponíveis [aqui](https://github.com/gpassero/uol-redacoes-xml)"
   ]
  },
  {
   "cell_type": "code",
   "execution_count": 1,
   "metadata": {},
   "outputs": [],
   "source": [
    "# imports\n",
    "import numpy as np\n",
    "import uol_redacoes_xml as uol"
   ]
  },
  {
   "cell_type": "markdown",
   "metadata": {},
   "source": [
    "## Carregando redações"
   ]
  },
  {
   "cell_type": "code",
   "execution_count": 2,
   "metadata": {},
   "outputs": [
    {
     "name": "stdout",
     "output_type": "stream",
     "text": [
      "Número de redações:  2164 \n",
      "\n",
      "Objeto que contém as redações: <class 'uol_redacoes_xml.reader.essays.Essay'> \n",
      "\n",
      "Atributo do objeto:\n",
      "['title', 'text', 'criteria_scores', 'final_score', 'prompt', 'url', 'fixed_text', 'errors', 'comments', '_extract_features', 'get_features']\n",
      "Features grais: [1243, 225, 4, 310.75, 139, 161.8705035971223, 5.524444444444445]\n",
      "{'Competência 1': 0.5, 'Competência 2': 0.5, 'Competência 3': 0.5, 'Competência 4': 0.5, 'Competência 5': 0.5}\n"
     ]
    }
   ],
   "source": [
    "essays = uol.load()\n",
    "print(\"Número de redações: \",len(essays),\"\\n\")\n",
    "print(\"Objeto que contém as redações:\", type(essays[0]),\"\\n\")\n",
    "\n",
    "print(\"Atributo do objeto:\")\n",
    "\n",
    "print([param for param in essays[0].__dir__() if not param.startswith(\"__\")])\n",
    "index = 2000\n",
    "print(\"Features grais:\",essays[0].get_features())\n",
    "print(essays[index].criteria_scores)"
   ]
  },
  {
   "cell_type": "markdown",
   "metadata": {},
   "source": [
    "As features indicadas em \"Features gerais\", segundo o que consta no repositório [uol](https://github.com/gpassero/uol-redacoes-xml/blob/master/README.md) são as seguintes:\n",
    "\n",
    "- Número de caracteres\n",
    "- Número de palavras\n",
    "- Número de parágrafos\n",
    "- Tamanho médio dos parágrafos\n",
    "- Número de palavrás únicas (vocabulário)\n",
    "- Repetição de palavras (total / vocabulário)\n",
    "- Tamanho médio das palavras\n"
   ]
  },
  {
   "cell_type": "code",
   "execution_count": 5,
   "metadata": {},
   "outputs": [
    {
     "name": "stdout",
     "output_type": "stream",
     "text": [
      "\t\t Exemplo de redação: \n",
      "\n",
      "\n",
      "De geração em geração os conflitos vão aumentado \n",
      "\n",
      "\n",
      "Antigamente, o modo de vida das pessoas era bem diferente, onde os costumes, as tradições, a honra, a obediência e o respeito, daquelas famílias eram bem sucedidos e se não obedecesse com esses costumes eram expulsa de sua família.\n",
      "No tempo de hoje as coisas estão bem diferentes, vemos minhares de pessoas vivendo numa era que preocupa a nossa geração, onde vai parar? Até que ponde vai chagar. O que os nossos filhos vão presenciar, nessa geração que a cada dia avança junto com a tecnologia.\n",
      "Com as mudanças de estilos, muitas famílias não sabem mais como criar os seus filhos, tudo está se transformando, os costumes estão sendo deixados para trás, pois não existem hoje, aquelas famílias tradicionais, como existiam antigamente.\n",
      "Os filhos de hoje não estão obedecendo mais os pais, só querem fazer o que quer, os relacionamentos entres as famílias estão a cada dia complicado, os filhos não respeitam os país, nem os pais os filhos, cadê o respeito, como aqueles de antigamente, o respeito pelos mais velhos não existe mais.\n",
      "Até que ponto essa nossa geração chegou, ela está totalmente descontrolada, o que vai acontecer daqui para frente, a que tempo vamos chegar.\n"
     ]
    }
   ],
   "source": [
    "print(\"\\t\\t Exemplo de redação: \\n\\n\")\n",
    "print(essays[index].title,\"\\n\\n\")\n",
    "print(essays[index].text)"
   ]
  },
  {
   "cell_type": "markdown",
   "metadata": {},
   "source": [
    "## Ferramenta CoGroo\n",
    "Utilizando a biblioteca CoGroo para python. CoGroo trata-se de um corretor morfológico para a língua portuguesa cuja utilização foi aconcelhada pelo professor Rafael para o projeto da disciplina de mineração de texto. \n",
    "As instruções sobre como utilizar a ferramente se encontram [aqui](https://github.com/gpassero/cogroo4py).\n",
    "Antes de rodar o módulo, será necesário instalar a biblioteca py4j, já que a biblioteca disponibilisada usa uma interface java para comunicar-se com pyhton.\n",
    "A mesma pode ser instalada via pip, utilizando o comando\n",
    "\n",
    "```\n",
    "    pip install py4j\n",
    "```"
   ]
  },
  {
   "cell_type": "markdown",
   "metadata": {},
   "source": [
    "### Separando parágrafos"
   ]
  },
  {
   "cell_type": "code",
   "execution_count": 6,
   "metadata": {},
   "outputs": [
    {
     "name": "stdout",
     "output_type": "stream",
     "text": [
      "Objeto retornado ao ser feita as análises <class 'cogroo_interface.Document'> \n",
      "\n",
      "Parâmetros do objeto\n",
      "['text', 'sentences', 'paragraphs']\n",
      "Paragrafo 0:\n",
      " [Antigamente, o modo de vida das pessoas era bem diferente, onde os costumes, as tradições, a honra, a obediência e o respeito, daquelas famílias eram bem sucedidos e se não obedecesse com esses costumes eram expulsa de sua família.] \n",
      "\n",
      "Paragrafo 1:\n",
      " [No tempo de hoje as coisas estão bem diferentes, vemos minhares de pessoas vivendo numa era que preocupa a nossa geração, onde vai parar?, Até que ponde vai chagar., O que os nossos filhos vão presenciar, nessa geração que a cada dia avança junto com a tecnologia.] \n",
      "\n",
      "Paragrafo 2:\n",
      " [Com as mudanças de estilos, muitas famílias não sabem mais como criar os seus filhos, tudo está se transformando, os costumes estão sendo deixados para trás, pois não existem hoje, aquelas famílias tradicionais, como existiam antigamente.] \n",
      "\n",
      "Paragrafo 3:\n",
      " [Os filhos de hoje não estão obedecendo mais os pais, só querem fazer o que quer, os relacionamentos entres as famílias estão a cada dia complicado, os filhos não respeitam os país, nem os pais os filhos, cadê o respeito, como aqueles de antigamente, o respeito pelos mais velhos não existe mais.] \n",
      "\n",
      "Paragrafo 4:\n",
      " [Até que ponto essa nossa geração chegou, ela está totalmente descontrolada, o que vai acontecer daqui para frente, a que tempo vamos chegar.] \n",
      "\n"
     ]
    }
   ],
   "source": [
    "from cogroo_interface import Cogroo\n",
    "\n",
    "cogroo = Cogroo.Instance()\n",
    "\n",
    "texto = essays[index].text\n",
    "\n",
    "# Analizando texto\n",
    "doc = cogroo.analyze(texto)\n",
    "print(\"Objeto retornado ao ser feita as análises\",type(doc),\"\\n\")\n",
    "\n",
    "print(\"Parâmetros do objeto\")\n",
    "print([param for param in doc.__dir__() if not param.startswith(\"__\")])\n",
    "# Contando parágrafos\n",
    "for i, p in enumerate(doc.paragraphs):\n",
    "    print(\"Paragrafo \"+str(i)+\":\\n\",p,\"\\n\")\n"
   ]
  },
  {
   "cell_type": "markdown",
   "metadata": {},
   "source": [
    "### Separando por sentenças"
   ]
  },
  {
   "cell_type": "code",
   "execution_count": 7,
   "metadata": {},
   "outputs": [
    {
     "name": "stdout",
     "output_type": "stream",
     "text": [
      "Sentença 0:\n",
      " Antigamente, o modo de vida das pessoas era bem diferente, onde os costumes, as tradições, a honra, a obediência e o respeito, daquelas famílias eram bem sucedidos e se não obedecesse com esses costumes eram expulsa de sua família. \n",
      "\n",
      "Sentença 1:\n",
      " No tempo de hoje as coisas estão bem diferentes, vemos minhares de pessoas vivendo numa era que preocupa a nossa geração, onde vai parar? \n",
      "\n",
      "Sentença 2:\n",
      " Até que ponde vai chagar. \n",
      "\n",
      "Sentença 3:\n",
      " O que os nossos filhos vão presenciar, nessa geração que a cada dia avança junto com a tecnologia. \n",
      "\n",
      "Sentença 4:\n",
      " Com as mudanças de estilos, muitas famílias não sabem mais como criar os seus filhos, tudo está se transformando, os costumes estão sendo deixados para trás, pois não existem hoje, aquelas famílias tradicionais, como existiam antigamente. \n",
      "\n",
      "Sentença 5:\n",
      " Os filhos de hoje não estão obedecendo mais os pais, só querem fazer o que quer, os relacionamentos entres as famílias estão a cada dia complicado, os filhos não respeitam os país, nem os pais os filhos, cadê o respeito, como aqueles de antigamente, o respeito pelos mais velhos não existe mais. \n",
      "\n",
      "Sentença 6:\n",
      " Até que ponto essa nossa geração chegou, ela está totalmente descontrolada, o que vai acontecer daqui para frente, a que tempo vamos chegar. \n",
      "\n"
     ]
    }
   ],
   "source": [
    "sentences = doc.sentences\n",
    "for i , s in enumerate(sentences):\n",
    "    print(\"Sentença \"+str(i)+\":\\n\",s,\"\\n\")"
   ]
  },
  {
   "cell_type": "markdown",
   "metadata": {},
   "source": [
    "### Análise gramatical"
   ]
  },
  {
   "cell_type": "code",
   "execution_count": 8,
   "metadata": {},
   "outputs": [
    {
     "name": "stdout",
     "output_type": "stream",
     "text": [
      "Número de erros detectados:  2\n"
     ]
    }
   ],
   "source": [
    "\n",
    "doc = cogroo.grammar_check(essays[index].text)\n",
    "print(\"Número de erros detectados: \",len(doc.mistakes))"
   ]
  },
  {
   "cell_type": "code",
   "execution_count": 11,
   "metadata": {},
   "outputs": [
    {
     "name": "stdout",
     "output_type": "stream",
     "text": [
      "Objeto retornado: <class 'cogroo_interface.Mistake'> \n",
      "\n",
      "Parâmetros do objeto retornado:\n",
      "['rule_id', 'short_msg', 'long_msg', 'full_msg', 'suggestions', 'start', 'end', 'context', 'rule_priority']\n"
     ]
    }
   ],
   "source": [
    "mistake = doc.mistakes[1]\n",
    "print(\"Objeto retornado:\",type(mistake),\"\\n\")\n",
    "print(\"Parâmetros do objeto retornado:\")\n",
    "\n",
    "print([param for param in mistake.__dir__() if not param.startswith(\"__\")])"
   ]
  },
  {
   "cell_type": "code",
   "execution_count": 12,
   "metadata": {},
   "outputs": [
    {
     "name": "stdout",
     "output_type": "stream",
     "text": [
      "xml:129 \n",
      "\n",
      "Verificou-se erro de concordância entre o sujeito e o verbo. \n",
      "\n",
      "Verificou-se erro de concordância entre o sujeito e o verbo. \n",
      "\n",
      "Verificou-se erro de concordância entre o sujeito e o verbo.\n",
      "Exemplos:\n",
      "  Incorreto: \tNós foi\n",
      "  Correto:   \tNós fomos\n",
      "  Incorreto: \tNós não foi.\n",
      "  Correto:   \tNós não fomos.\n",
      " \n",
      "\n",
      "Prioridade da regra:  871 \n",
      "\n",
      "Começo do erro:  1157\n",
      "Fim do erro:  1169\n"
     ]
    }
   ],
   "source": [
    "print(mistake.rule_id,\"\\n\")\n",
    "print(mistake.short_msg,\"\\n\")\n",
    "print(mistake.long_msg,\"\\n\")\n",
    "print(mistake.full_msg,\"\\n\")\n",
    "print(\"Prioridade da regra: \",mistake.rule_priority,\"\\n\")\n",
    "print(\"Começo do erro: \",mistake.start)\n",
    "print(\"Fim do erro: \",mistake.end)"
   ]
  },
  {
   "cell_type": "code",
   "execution_count": 13,
   "metadata": {},
   "outputs": [
    {
     "name": "stdout",
     "output_type": "stream",
     "text": [
      "vamos chegar\n"
     ]
    }
   ],
   "source": [
    "## Verificando começo e fim do erro no texto\n",
    "erro = essays[index].text[mistake.start:mistake.end]\n",
    "print(erro)"
   ]
  }
 ],
 "metadata": {
  "kernelspec": {
   "display_name": "Python 3",
   "language": "python",
   "name": "python3"
  },
  "language_info": {
   "codemirror_mode": {
    "name": "ipython",
    "version": 3
   },
   "file_extension": ".py",
   "mimetype": "text/x-python",
   "name": "python",
   "nbconvert_exporter": "python",
   "pygments_lexer": "ipython3",
   "version": "3.6.9"
  }
 },
 "nbformat": 4,
 "nbformat_minor": 2
}
