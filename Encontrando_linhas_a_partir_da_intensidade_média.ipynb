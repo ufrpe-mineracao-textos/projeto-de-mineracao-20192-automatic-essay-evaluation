{
  "nbformat": 4,
  "nbformat_minor": 0,
  "metadata": {
    "colab": {
      "name": "Encontrando linhas a partir da intensidade média.ipynb",
      "provenance": [],
      "collapsed_sections": [],
      "toc_visible": true,
      "include_colab_link": true
    },
    "kernelspec": {
      "name": "python3",
      "display_name": "Python 3"
    }
  },
  "cells": [
    {
      "cell_type": "markdown",
      "metadata": {
        "id": "view-in-github",
        "colab_type": "text"
      },
      "source": [
        "<a href=\"https://colab.research.google.com/github/ufrpe-mineracao-textos/projeto-de-mineracao-20192-automatic-essay-evaluation/blob/master/Encontrando_linhas_a_partir_da_intensidade_m%C3%A9dia.ipynb\" target=\"_parent\"><img src=\"https://colab.research.google.com/assets/colab-badge.svg\" alt=\"Open In Colab\"/></a>"
      ]
    },
    {
      "cell_type": "code",
      "metadata": {
        "id": "XbCYeAh4MoBY",
        "colab_type": "code",
        "outputId": "56848c78-ed5f-4b14-ab22-59816eaebbfe",
        "colab": {
          "base_uri": "https://localhost:8080/",
          "height": 136
        }
      },
      "source": [
        "!git clone https://github.com/ufrpe-mineracao-textos/projeto-de-mineracao-20192-automatic-essay-evaluation.git"
      ],
      "execution_count": 1,
      "outputs": [
        {
          "output_type": "stream",
          "text": [
            "Cloning into 'projeto-de-mineracao-20192-automatic-essay-evaluation'...\n",
            "remote: Enumerating objects: 65, done.\u001b[K\n",
            "remote: Counting objects: 100% (65/65), done.\u001b[K\n",
            "remote: Compressing objects: 100% (54/54), done.\u001b[K\n",
            "remote: Total 118 (delta 13), reused 54 (delta 7), pack-reused 53\n",
            "Receiving objects: 100% (118/118), 53.14 MiB | 37.39 MiB/s, done.\n",
            "Resolving deltas: 100% (17/17), done.\n"
          ],
          "name": "stdout"
        }
      ]
    },
    {
      "cell_type": "code",
      "metadata": {
        "id": "NSZy3FO_OfdJ",
        "colab_type": "code",
        "colab": {}
      },
      "source": [
        "import cv2\n",
        "import numpy as np\n",
        "import os\n",
        "from google.colab.patches import cv2_imshow"
      ],
      "execution_count": 0,
      "outputs": []
    },
    {
      "cell_type": "code",
      "metadata": {
        "id": "q92ITSexOf9C",
        "colab_type": "code",
        "colab": {}
      },
      "source": [
        "# Loading essay images\n",
        "images_folder  = \"projeto-de-mineracao-20192-automatic-essay-evaluation/data/essay_pictures/\"\n",
        "essays = {}\n",
        "for r,d,files in os.walk(images_folder):\n",
        "    files.sort()\n",
        "    for f in files:\n",
        "        essays[f] = cv2.imread(os.path.join(r,f))"
      ],
      "execution_count": 0,
      "outputs": []
    },
    {
      "cell_type": "markdown",
      "metadata": {
        "id": "Lu48mZud1XMg",
        "colab_type": "text"
      },
      "source": [
        "# Encontrando as linhas"
      ]
    },
    {
      "cell_type": "code",
      "metadata": {
        "id": "Y6iHJmJRAb0o",
        "colab_type": "code",
        "colab": {}
      },
      "source": [
        "# As funções calculam a intensidades média para cada linha ou coluna da imagem\n",
        "# e retornam as possíveis linhas horizontais ou verticais baseada no limiar informado.\n",
        "# Para obter-se o resultado esperado pode ser necessário ordenar todas as linhas\n",
        "# obtidas baseado em alguma característica, como espessura ou posição.\n",
        "\n",
        "def verticalLines(image, thresh, totalLines=None, sort='thickness',reverse=True):\n",
        "    vals = np.array([s for s in [np.sum(image[:,y])/(255*image.shape[0]) for y in range(image.shape[1])]])\n",
        "    lines = []\n",
        "    y = 0\n",
        "    while y < image.shape[1]:\n",
        "        if vals[y] < thresh:\n",
        "            start = y\n",
        "            y += 1\n",
        "            while y < image.shape[1] - 1 and vals[y] < thresh:\n",
        "                y += 1\n",
        "            l = {}\n",
        "            l['pos'] = (start,y)\n",
        "            l['thickness'] = y - start\n",
        "            l['mean'] = np.mean(vals[start:y])\n",
        "            lines.append(l)\n",
        "        y += 1\n",
        "    if sort == 'thickness':\n",
        "        lines.sort(key = lambda x: x[sort],reverse=reverse)\n",
        "    else:\n",
        "        lines.sort(key = lambda x: x[sort],reverse=reverse)\n",
        "    if totalLines == None:\n",
        "        return lines\n",
        "    else:\n",
        "        return lines[:min(totalLines,len(lines))]\n",
        "\n",
        "def horizontalLines(image, thresh, totalLines=None, sort='thickness', reverse=True):\n",
        "    vals = np.array([s for s in [np.sum(image[x,:])/(255*image.shape[1]) for x in range(image.shape[0])]])\n",
        "    lines = []\n",
        "    x = 0\n",
        "    while x < image.shape[0]:\n",
        "        if vals[x] < thresh:\n",
        "            start = x\n",
        "            x += 1\n",
        "            while x < image.shape[0] - 1 and vals[x] < thresh:\n",
        "                x += 1\n",
        "            l = {}\n",
        "            l['pos'] = (start,x)\n",
        "            l['thickness'] = x  - start\n",
        "            l['mean'] = np.mean(vals[start:x])\n",
        "            lines.append(l)\n",
        "        x += 1\n",
        "    if sort == 'thickness':\n",
        "        lines.sort(key = lambda x: x[sort], reverse=reverse)\n",
        "    else:\n",
        "        lines.sort(key = lambda x: x[sort],reverse=reverse)\n",
        "    if totalLines == None:\n",
        "        return lines\n",
        "    else:\n",
        "        return lines[:min(totalLines,len(lines))]"
      ],
      "execution_count": 0,
      "outputs": []
    },
    {
      "cell_type": "code",
      "metadata": {
        "id": "y01duvXKzRjn",
        "colab_type": "code",
        "colab": {}
      },
      "source": [
        "def findLines(essays):\n",
        "    # Tentando detectar as posições das 4 linhas mais grossas\n",
        "    LINES = {}\n",
        "    for e in essays:\n",
        "        gray = cv2.cvtColor(essays[e],cv2.COLOR_BGR2GRAY)\n",
        "        for t in np.arange(0.4,0.9,0.1):\n",
        "            hlines = horizontalLines(gray, t, 2)\n",
        "            if len(hlines) == 2:\n",
        "                break\n",
        "        if len(hlines) != 2:\n",
        "            print('Linhas horizontais delimitantes não encontradas ('+str(len(hlines))+'/'+'2)')\n",
        "            print('essay: '+e)\n",
        "            return {}\n",
        "        for t in np.arange(0.4,0.9,0.1):\n",
        "            vlines = verticalLines(gray,t, 2)\n",
        "            if len(vlines) == 2:\n",
        "                break\n",
        "        if len(vlines) != 2:\n",
        "            print('Linhas verticais delimitantes não encontradas ('+str(len(vlines))+'/'+'2)')\n",
        "            print('essay: '+e)\n",
        "            return {}\n",
        "        \n",
        "        LINES[e] = {}\n",
        "        LINES[e]['vertical'] = vlines\n",
        "        LINES[e]['horizontal'] = hlines\n",
        "\n",
        "    # Tentando detectar o restante\n",
        "    for e in essays:\n",
        "        gray = cv2.cvtColor(essays[e],cv2.COLOR_BGR2GRAY)\n",
        "        evlines = [v['pos'] for v in LINES[e]['vertical']]\n",
        "        evlines.sort()\n",
        "        #print(evlines)\n",
        "        # tenta cortar a numeração\n",
        "        cropV = int(np.round((evlines[1][0] - evlines[0][1]) / 50))\n",
        "        start = evlines[0][1]+cropV\n",
        "        end = evlines[1][0]-cropV\n",
        "        for t in np.arange(0.4,0.9,0.1):\n",
        "            vlines = verticalLines(gray[:,start:end],t, 1)\n",
        "            for i in range(len(vlines)):\n",
        "                t = vlines[i]['pos']\n",
        "                vlines[i]['pos'] = (t[0]+start,t[1]+start)\n",
        "            if len(vlines) == 1:\n",
        "                break\n",
        "        if len(vlines) != 1:\n",
        "            print('Linhas verticais não encontradas (0/1)')\n",
        "            print('essay: '+e)\n",
        "            return {}\n",
        "        \n",
        "        LINES[e]['vertical'] += vlines\n",
        "        LINES[e]['vertical'].sort(key=lambda a: a['pos'][0])\n",
        "\n",
        "        ehlines = [h['pos'] for h in LINES[e]['horizontal']]\n",
        "        ehlines.sort()\n",
        "        \n",
        "        \n",
        "        # procura as linhas horizontais de uma em uma\n",
        "        pixels_per_line = (ehlines[1][0]-ehlines[0][1]) / 30\n",
        "        cropH = int(pixels_per_line/4)\n",
        "        \n",
        "        for l in range(29):\n",
        "            for t in np.arange(0.4,0.9,0.1):\n",
        "                start = ehlines[0][1] + int(l * pixels_per_line) + cropH\n",
        "                end = start + int(pixels_per_line) #- cropH\n",
        "                hlines = horizontalLines(gray[start:end,evlines[0][1]+cropV:vlines[0]['pos'][1]], t, 1, sort='pos', reverse=True)\n",
        "                hlines.sort(key=lambda a: a['pos'], reverse=True)\n",
        "                hlines = hlines[:1]\n",
        "                for i in range(len(hlines)):\n",
        "                    t = hlines[i]['pos']\n",
        "                    hlines[i]['pos'] = (t[0]+start,t[1]+start)\n",
        "                if len(hlines) == 1:\n",
        "                        break\n",
        "            if len(hlines) != 1:\n",
        "                print('Linhas horizontais não encontradas ('+str(l)+'/'+'29)')\n",
        "                print('essay: '+e)\n",
        "                return {}\n",
        "            LINES[e]['horizontal'] += hlines\n",
        "        LINES[e]['horizontal'].sort(key=lambda a: a['pos'][0])\n",
        "        \n",
        "    return LINES"
      ],
      "execution_count": 0,
      "outputs": []
    },
    {
      "cell_type": "code",
      "metadata": {
        "id": "wAtV0h301V6l",
        "colab_type": "code",
        "colab": {}
      },
      "source": [
        "LINES = findLines(essays)"
      ],
      "execution_count": 0,
      "outputs": []
    },
    {
      "cell_type": "markdown",
      "metadata": {
        "id": "zyHWHJvd2Eol",
        "colab_type": "text"
      },
      "source": [
        "# Salva imagens com linhas encontradas"
      ]
    },
    {
      "cell_type": "code",
      "metadata": {
        "id": "J65HE4yANzUo",
        "colab_type": "code",
        "colab": {}
      },
      "source": [
        "# desenha linhas na imagem\n",
        "def imshow_lines(image, horizontalLines, verticalLines, file=None):\n",
        "    img = np.copy(image)\n",
        "    if horizontalLines != None and len(horizontalLines) != 0:\n",
        "        y1 = horizontalLines[0][0]\n",
        "        y2 = horizontalLines[-1][1]\n",
        "    else:\n",
        "        y1 = 0\n",
        "        y2 = image.shape[0]\n",
        "    if verticalLines != None and len(verticalLines) != 0:\n",
        "        for vl in verticalLines:\n",
        "            x = vl[0]\n",
        "            thickness = max(vl[1] - x,2)\n",
        "            cv2.line(img, (x,y1), (x,y2), (0,0,255), thickness)\n",
        "        x1 = verticalLines[0][0]\n",
        "        x2 = verticalLines[-1][1]\n",
        "    else:\n",
        "        x1 = 0\n",
        "        x2 = img.shape[1]\n",
        "    if horizontalLines != None and len(verticalLines) != 0:\n",
        "        for hl in horizontalLines:\n",
        "            y = hl[0]\n",
        "            thickness = max(hl[1] - y,3)\n",
        "            cv2.line(img, (x1,y), (x2,y), (0,0,255), thickness)\n",
        "    if file != None:\n",
        "        cv2.imwrite(file, img)\n",
        "    else:\n",
        "        cv2_imshow(img)"
      ],
      "execution_count": 0,
      "outputs": []
    },
    {
      "cell_type": "code",
      "metadata": {
        "id": "z-ZTVr6tPjlZ",
        "colab_type": "code",
        "colab": {}
      },
      "source": [
        "for e in essays:\n",
        "    horl = [h['pos'] for h in LINES[e]['horizontal']]\n",
        "    verl = [v['pos'] for v in LINES[e]['vertical']]\n",
        "    imshow_lines(essays[e], horl, verl , e)"
      ],
      "execution_count": 0,
      "outputs": []
    }
  ]
}